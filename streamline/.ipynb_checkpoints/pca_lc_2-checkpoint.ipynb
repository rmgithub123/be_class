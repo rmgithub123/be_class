{
 "cells": [
  {
   "cell_type": "code",
   "execution_count": null,
   "id": "fbe8b674-1bcd-4892-a161-ea7b2815c018",
   "metadata": {},
   "outputs": [],
   "source": []
  },
  {
   "cell_type": "code",
   "execution_count": null,
   "id": "2aca40cb-1515-458f-9225-3da223355466",
   "metadata": {},
   "outputs": [],
   "source": []
  },
  {
   "cell_type": "code",
   "execution_count": null,
   "id": "615c85bc-6794-4ce9-8d85-dc710e623039",
   "metadata": {},
   "outputs": [],
   "source": []
  }
 ],
 "metadata": {
  "kernelspec": {
   "display_name": "Python 3 (ipykernel)",
   "language": "python",
   "name": "python3"
  },
  "language_info": {
   "name": ""
  }
 },
 "nbformat": 4,
 "nbformat_minor": 5
}
