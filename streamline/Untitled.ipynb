{
 "cells": [
  {
   "cell_type": "code",
   "execution_count": null,
   "id": "ac8c5ced-99d1-46a2-a829-e1a7e4cb4561",
   "metadata": {},
   "outputs": [],
   "source": []
  }
 ],
 "metadata": {
  "kernelspec": {
   "display_name": "Python 3 (ipykernel)",
   "language": "python",
   "name": "python3"
  },
  "language_info": {
   "name": ""
  }
 },
 "nbformat": 4,
 "nbformat_minor": 5
}
